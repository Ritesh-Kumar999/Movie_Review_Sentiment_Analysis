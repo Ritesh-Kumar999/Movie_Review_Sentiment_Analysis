{
 "cells": [
  {
   "cell_type": "code",
   "execution_count": 1,
   "metadata": {},
   "outputs": [],
   "source": [
    "import numpy as np\n",
    "import tensorflow as tf\n",
    "from tensorflow.keras.datasets import imdb\n",
    "from tensorflow.keras.preprocessing import sequence\n",
    "from tensorflow.keras.models import load_model"
   ]
  },
  {
   "cell_type": "code",
   "execution_count": 2,
   "metadata": {},
   "outputs": [],
   "source": [
    "# load the imdb dataset word index\n",
    "word_index = imdb.get_word_index()\n",
    "reverse_word_index = {value:key for key , value in word_index.items()}"
   ]
  },
  {
   "cell_type": "code",
   "execution_count": 3,
   "metadata": {},
   "outputs": [
    {
     "name": "stderr",
     "output_type": "stream",
     "text": [
      "WARNING:absl:Compiled the loaded model, but the compiled metrics have yet to be built. `model.compile_metrics` will be empty until you train or evaluate the model.\n"
     ]
    }
   ],
   "source": [
    "model = load_model('simple_rnn_ritesh.h5')"
   ]
  },
  {
   "cell_type": "code",
   "execution_count": 4,
   "metadata": {},
   "outputs": [
    {
     "data": {
      "text/html": [
       "<pre style=\"white-space:pre;overflow-x:auto;line-height:normal;font-family:Menlo,'DejaVu Sans Mono',consolas,'Courier New',monospace\"><span style=\"font-weight: bold\">Model: \"sequential\"</span>\n",
       "</pre>\n"
      ],
      "text/plain": [
       "\u001b[1mModel: \"sequential\"\u001b[0m\n"
      ]
     },
     "metadata": {},
     "output_type": "display_data"
    },
    {
     "data": {
      "text/html": [
       "<pre style=\"white-space:pre;overflow-x:auto;line-height:normal;font-family:Menlo,'DejaVu Sans Mono',consolas,'Courier New',monospace\">┏━━━━━━━━━━━━━━━━━━━━━━━━━━━━━━━━━┳━━━━━━━━━━━━━━━━━━━━━━━━┳━━━━━━━━━━━━━━━┓\n",
       "┃<span style=\"font-weight: bold\"> Layer (type)                    </span>┃<span style=\"font-weight: bold\"> Output Shape           </span>┃<span style=\"font-weight: bold\">       Param # </span>┃\n",
       "┡━━━━━━━━━━━━━━━━━━━━━━━━━━━━━━━━━╇━━━━━━━━━━━━━━━━━━━━━━━━╇━━━━━━━━━━━━━━━┩\n",
       "│ embedding (<span style=\"color: #0087ff; text-decoration-color: #0087ff\">Embedding</span>)           │ (<span style=\"color: #00af00; text-decoration-color: #00af00\">32</span>, <span style=\"color: #00af00; text-decoration-color: #00af00\">500</span>, <span style=\"color: #00af00; text-decoration-color: #00af00\">128</span>)         │     <span style=\"color: #00af00; text-decoration-color: #00af00\">1,280,000</span> │\n",
       "├─────────────────────────────────┼────────────────────────┼───────────────┤\n",
       "│ simple_rnn (<span style=\"color: #0087ff; text-decoration-color: #0087ff\">SimpleRNN</span>)          │ (<span style=\"color: #00af00; text-decoration-color: #00af00\">32</span>, <span style=\"color: #00af00; text-decoration-color: #00af00\">128</span>)              │        <span style=\"color: #00af00; text-decoration-color: #00af00\">32,896</span> │\n",
       "├─────────────────────────────────┼────────────────────────┼───────────────┤\n",
       "│ dense (<span style=\"color: #0087ff; text-decoration-color: #0087ff\">Dense</span>)                   │ (<span style=\"color: #00af00; text-decoration-color: #00af00\">32</span>, <span style=\"color: #00af00; text-decoration-color: #00af00\">1</span>)                │           <span style=\"color: #00af00; text-decoration-color: #00af00\">129</span> │\n",
       "└─────────────────────────────────┴────────────────────────┴───────────────┘\n",
       "</pre>\n"
      ],
      "text/plain": [
       "┏━━━━━━━━━━━━━━━━━━━━━━━━━━━━━━━━━┳━━━━━━━━━━━━━━━━━━━━━━━━┳━━━━━━━━━━━━━━━┓\n",
       "┃\u001b[1m \u001b[0m\u001b[1mLayer (type)                   \u001b[0m\u001b[1m \u001b[0m┃\u001b[1m \u001b[0m\u001b[1mOutput Shape          \u001b[0m\u001b[1m \u001b[0m┃\u001b[1m \u001b[0m\u001b[1m      Param #\u001b[0m\u001b[1m \u001b[0m┃\n",
       "┡━━━━━━━━━━━━━━━━━━━━━━━━━━━━━━━━━╇━━━━━━━━━━━━━━━━━━━━━━━━╇━━━━━━━━━━━━━━━┩\n",
       "│ embedding (\u001b[38;5;33mEmbedding\u001b[0m)           │ (\u001b[38;5;34m32\u001b[0m, \u001b[38;5;34m500\u001b[0m, \u001b[38;5;34m128\u001b[0m)         │     \u001b[38;5;34m1,280,000\u001b[0m │\n",
       "├─────────────────────────────────┼────────────────────────┼───────────────┤\n",
       "│ simple_rnn (\u001b[38;5;33mSimpleRNN\u001b[0m)          │ (\u001b[38;5;34m32\u001b[0m, \u001b[38;5;34m128\u001b[0m)              │        \u001b[38;5;34m32,896\u001b[0m │\n",
       "├─────────────────────────────────┼────────────────────────┼───────────────┤\n",
       "│ dense (\u001b[38;5;33mDense\u001b[0m)                   │ (\u001b[38;5;34m32\u001b[0m, \u001b[38;5;34m1\u001b[0m)                │           \u001b[38;5;34m129\u001b[0m │\n",
       "└─────────────────────────────────┴────────────────────────┴───────────────┘\n"
      ]
     },
     "metadata": {},
     "output_type": "display_data"
    },
    {
     "data": {
      "text/html": [
       "<pre style=\"white-space:pre;overflow-x:auto;line-height:normal;font-family:Menlo,'DejaVu Sans Mono',consolas,'Courier New',monospace\"><span style=\"font-weight: bold\"> Total params: </span><span style=\"color: #00af00; text-decoration-color: #00af00\">1,313,027</span> (5.01 MB)\n",
       "</pre>\n"
      ],
      "text/plain": [
       "\u001b[1m Total params: \u001b[0m\u001b[38;5;34m1,313,027\u001b[0m (5.01 MB)\n"
      ]
     },
     "metadata": {},
     "output_type": "display_data"
    },
    {
     "data": {
      "text/html": [
       "<pre style=\"white-space:pre;overflow-x:auto;line-height:normal;font-family:Menlo,'DejaVu Sans Mono',consolas,'Courier New',monospace\"><span style=\"font-weight: bold\"> Trainable params: </span><span style=\"color: #00af00; text-decoration-color: #00af00\">1,313,025</span> (5.01 MB)\n",
       "</pre>\n"
      ],
      "text/plain": [
       "\u001b[1m Trainable params: \u001b[0m\u001b[38;5;34m1,313,025\u001b[0m (5.01 MB)\n"
      ]
     },
     "metadata": {},
     "output_type": "display_data"
    },
    {
     "data": {
      "text/html": [
       "<pre style=\"white-space:pre;overflow-x:auto;line-height:normal;font-family:Menlo,'DejaVu Sans Mono',consolas,'Courier New',monospace\"><span style=\"font-weight: bold\"> Non-trainable params: </span><span style=\"color: #00af00; text-decoration-color: #00af00\">0</span> (0.00 B)\n",
       "</pre>\n"
      ],
      "text/plain": [
       "\u001b[1m Non-trainable params: \u001b[0m\u001b[38;5;34m0\u001b[0m (0.00 B)\n"
      ]
     },
     "metadata": {},
     "output_type": "display_data"
    },
    {
     "data": {
      "text/html": [
       "<pre style=\"white-space:pre;overflow-x:auto;line-height:normal;font-family:Menlo,'DejaVu Sans Mono',consolas,'Courier New',monospace\"><span style=\"font-weight: bold\"> Optimizer params: </span><span style=\"color: #00af00; text-decoration-color: #00af00\">2</span> (12.00 B)\n",
       "</pre>\n"
      ],
      "text/plain": [
       "\u001b[1m Optimizer params: \u001b[0m\u001b[38;5;34m2\u001b[0m (12.00 B)\n"
      ]
     },
     "metadata": {},
     "output_type": "display_data"
    }
   ],
   "source": [
    "model.summary()"
   ]
  },
  {
   "cell_type": "code",
   "execution_count": 6,
   "metadata": {},
   "outputs": [
    {
     "data": {
      "text/plain": [
       "[array([[ 0.35669684, -0.20312582,  0.39274153, ..., -0.43922213,\n",
       "         -0.3012318 , -0.20965283],\n",
       "        [-0.00604589,  0.00234974,  0.08797394, ..., -0.11067822,\n",
       "          0.02708299, -0.04689923],\n",
       "        [-0.03231702, -0.0909648 ,  0.12237952, ..., -0.10582086,\n",
       "          0.00509191,  0.00619203],\n",
       "        ...,\n",
       "        [-0.07435484, -0.11083448,  0.10196918, ...,  0.11207611,\n",
       "          0.10748664,  0.10444759],\n",
       "        [ 0.00667183,  0.05667224, -0.03570144, ..., -0.08766318,\n",
       "         -0.05292489, -0.04920762],\n",
       "        [-0.04138796,  0.05363899, -0.00414917, ...,  0.04531787,\n",
       "          0.1558466 ,  0.10564283]], dtype=float32),\n",
       " array([[-0.00375421, -0.13147588,  0.0265927 , ...,  0.13826056,\n",
       "         -0.01035804,  0.01759757],\n",
       "        [ 0.02990374,  0.12826686, -0.02175152, ...,  0.03366195,\n",
       "         -0.05549306,  0.09363203],\n",
       "        [-0.08492727,  0.06550877,  0.03456286, ...,  0.01699469,\n",
       "         -0.17424543, -0.13552159],\n",
       "        ...,\n",
       "        [ 0.10830875,  0.00322208, -0.03917453, ..., -0.02974717,\n",
       "         -0.06846461,  0.04220629],\n",
       "        [-0.00924709, -0.04928825, -0.11292879, ..., -0.08302655,\n",
       "          0.07058997, -0.11127924],\n",
       "        [-0.11586407,  0.01299178, -0.10244215, ..., -0.11614168,\n",
       "         -0.07801919,  0.06421959]], dtype=float32),\n",
       " array([[ 0.06302493,  0.03490159, -0.00226238, ..., -0.04291429,\n",
       "         -0.06005585,  0.0058766 ],\n",
       "        [-0.03451043, -0.0744866 , -0.05860576, ..., -0.05863632,\n",
       "          0.10250282,  0.09922014],\n",
       "        [-0.12409983, -0.01121668, -0.08476011, ..., -0.02008266,\n",
       "          0.05182954,  0.04952117],\n",
       "        ...,\n",
       "        [-0.09134609, -0.03035407,  0.0076644 , ..., -0.03193739,\n",
       "         -0.05326809, -0.0519541 ],\n",
       "        [-0.04839507,  0.04729219,  0.15402861, ..., -0.08038467,\n",
       "          0.03607856,  0.0283333 ],\n",
       "        [-0.03701422,  0.01134714,  0.13900262, ...,  0.01704133,\n",
       "          0.11637118,  0.00109351]], dtype=float32),\n",
       " array([-2.70459075e-02, -1.24190738e-02, -2.85247751e-02, -2.29911190e-02,\n",
       "         6.16610190e-03, -2.46551353e-02, -4.07705419e-02, -1.47926249e-03,\n",
       "        -4.36291918e-02,  3.75107825e-02,  1.86451655e-02, -2.77743340e-02,\n",
       "         5.04006213e-03,  2.86720190e-02, -2.42981724e-02,  2.40283925e-02,\n",
       "        -1.30842226e-02,  1.54281110e-02,  2.57292879e-03,  6.21400820e-03,\n",
       "         7.71095185e-03, -8.04956537e-03, -2.81365798e-03, -3.46882967e-03,\n",
       "        -2.30152663e-02, -1.29139069e-02, -1.21422159e-02, -2.54326314e-02,\n",
       "        -2.28908155e-02, -1.02044707e-02, -1.30623346e-02,  1.79512091e-02,\n",
       "         2.54106354e-02, -7.36935344e-03,  1.18070059e-02,  2.13750377e-02,\n",
       "         1.50514040e-02, -2.05226466e-02, -2.44744662e-02,  1.24029862e-03,\n",
       "         1.41242966e-02, -9.37526207e-03, -2.55113039e-02,  2.25079060e-02,\n",
       "        -3.51127908e-02,  2.59579774e-02, -1.02340225e-02, -7.53755495e-03,\n",
       "         1.79723647e-04, -1.81650929e-02,  6.09776098e-03, -4.63033170e-02,\n",
       "        -1.84616782e-02,  1.63222253e-02, -2.35882923e-02, -2.73733269e-02,\n",
       "        -3.15506570e-02,  2.73504248e-03, -8.24887957e-03, -1.28668994e-02,\n",
       "        -1.14755500e-02, -1.49282785e-02, -8.67391564e-03,  2.59503163e-03,\n",
       "         9.32438634e-05, -4.48672883e-02,  2.66730343e-03, -2.29717270e-02,\n",
       "        -1.42898969e-02,  4.06141393e-03, -2.46691201e-02, -2.38041356e-02,\n",
       "         1.29325399e-02, -2.39950884e-02,  7.22283439e-05,  2.98324041e-02,\n",
       "         4.25410224e-03, -1.37101514e-02,  1.41309211e-02, -3.69148552e-02,\n",
       "         1.84542593e-02,  2.89286487e-04,  3.87146808e-02, -1.58670079e-02,\n",
       "        -4.39638756e-02,  1.61779057e-02, -7.59806251e-03, -2.66891848e-02,\n",
       "        -3.66898701e-02, -2.12620217e-02,  1.92086715e-02, -2.22613849e-02,\n",
       "        -2.09040847e-02, -2.87606586e-02,  5.09446254e-03, -1.15238559e-02,\n",
       "         3.35274823e-03, -2.56960373e-02, -2.17799563e-02, -3.00731286e-02,\n",
       "         1.48717510e-02,  1.00254165e-02, -1.71312951e-02,  2.51709539e-02,\n",
       "         1.41881453e-02,  1.14900358e-02,  3.38101238e-02, -1.24286450e-02,\n",
       "         1.74923111e-02,  5.99939888e-03, -8.67813919e-03, -1.56285409e-02,\n",
       "        -5.19390926e-02, -1.82279944e-02, -4.94971592e-03, -2.88712066e-02,\n",
       "        -9.76575818e-03,  3.91596276e-03, -1.68605149e-02, -1.84838325e-02,\n",
       "         9.23449248e-02, -4.29623015e-03, -1.92657281e-02, -9.91499424e-03,\n",
       "        -1.45457219e-02, -9.51914303e-03, -1.70495845e-02, -4.44979640e-03],\n",
       "       dtype=float32),\n",
       " array([[-0.3397072 ],\n",
       "        [ 0.46361384],\n",
       "        [-0.11598068],\n",
       "        [ 0.08574973],\n",
       "        [ 0.10109001],\n",
       "        [ 0.11109832],\n",
       "        [ 0.5419823 ],\n",
       "        [-0.18913227],\n",
       "        [-0.08019921],\n",
       "        [ 0.19860013],\n",
       "        [ 0.0523403 ],\n",
       "        [ 0.09456767],\n",
       "        [-0.277722  ],\n",
       "        [-0.1147252 ],\n",
       "        [-0.5470858 ],\n",
       "        [ 0.11632754],\n",
       "        [-0.10968404],\n",
       "        [ 0.372436  ],\n",
       "        [-0.11446391],\n",
       "        [ 0.6156093 ],\n",
       "        [ 0.09704766],\n",
       "        [-0.19504786],\n",
       "        [ 0.08825456],\n",
       "        [-0.22900896],\n",
       "        [-0.50822014],\n",
       "        [ 0.4398526 ],\n",
       "        [ 0.08841486],\n",
       "        [ 0.05578962],\n",
       "        [ 0.08374584],\n",
       "        [ 0.17466077],\n",
       "        [-0.06159128],\n",
       "        [ 0.06181435],\n",
       "        [-0.25495288],\n",
       "        [ 0.19133137],\n",
       "        [-0.15576579],\n",
       "        [-0.20194678],\n",
       "        [-0.11678042],\n",
       "        [ 0.39499334],\n",
       "        [-0.22095442],\n",
       "        [-0.3247166 ],\n",
       "        [-0.08518826],\n",
       "        [-0.03482105],\n",
       "        [ 0.05510683],\n",
       "        [-0.30539346],\n",
       "        [-0.04076651],\n",
       "        [-0.21374972],\n",
       "        [ 0.13904685],\n",
       "        [ 0.23747675],\n",
       "        [ 0.18539494],\n",
       "        [ 0.17539018],\n",
       "        [-0.02061497],\n",
       "        [ 0.12338813],\n",
       "        [-0.09732704],\n",
       "        [-0.02943544],\n",
       "        [ 0.24562031],\n",
       "        [ 0.06747139],\n",
       "        [ 0.01476016],\n",
       "        [-0.31241596],\n",
       "        [-0.28330353],\n",
       "        [-0.43014747],\n",
       "        [ 0.07653938],\n",
       "        [ 0.01912953],\n",
       "        [-0.13124736],\n",
       "        [-0.250386  ],\n",
       "        [ 0.26006347],\n",
       "        [ 0.00488248],\n",
       "        [ 0.05566504],\n",
       "        [ 0.09830058],\n",
       "        [ 0.2168326 ],\n",
       "        [ 0.85693455],\n",
       "        [-0.06606482],\n",
       "        [ 0.10586142],\n",
       "        [ 0.13067885],\n",
       "        [ 0.07848852],\n",
       "        [-0.0931362 ],\n",
       "        [ 0.40662923],\n",
       "        [-0.16674905],\n",
       "        [ 0.19862674],\n",
       "        [ 0.9218428 ],\n",
       "        [ 0.04259585],\n",
       "        [-0.16025083],\n",
       "        [-0.03839867],\n",
       "        [ 0.6040118 ],\n",
       "        [ 0.19813076],\n",
       "        [ 0.17469409],\n",
       "        [-0.5091658 ],\n",
       "        [ 0.1424566 ],\n",
       "        [ 0.22309075],\n",
       "        [ 0.05812449],\n",
       "        [ 0.09034667],\n",
       "        [ 0.24076346],\n",
       "        [-0.2374398 ],\n",
       "        [ 0.20915121],\n",
       "        [ 0.10170824],\n",
       "        [ 0.480827  ],\n",
       "        [ 0.2594366 ],\n",
       "        [ 0.11837863],\n",
       "        [-0.34859085],\n",
       "        [-0.24692576],\n",
       "        [ 0.19794239],\n",
       "        [-0.25392422],\n",
       "        [-0.41494387],\n",
       "        [ 0.12948781],\n",
       "        [-0.15750876],\n",
       "        [-0.26648417],\n",
       "        [-0.02550925],\n",
       "        [ 0.08885397],\n",
       "        [-0.07729931],\n",
       "        [ 0.25341496],\n",
       "        [ 0.21348816],\n",
       "        [-0.0009263 ],\n",
       "        [ 0.10812599],\n",
       "        [-0.14604446],\n",
       "        [-0.28383413],\n",
       "        [ 0.2345284 ],\n",
       "        [-0.03449202],\n",
       "        [ 0.10782506],\n",
       "        [-0.08840492],\n",
       "        [ 0.00908041],\n",
       "        [ 0.03871179],\n",
       "        [ 0.26244417],\n",
       "        [ 0.06739017],\n",
       "        [-0.2510724 ],\n",
       "        [ 0.10755558],\n",
       "        [-0.408544  ],\n",
       "        [-0.14378111],\n",
       "        [ 0.1576655 ],\n",
       "        [ 0.17588572]], dtype=float32),\n",
       " array([0.6867269], dtype=float32)]"
      ]
     },
     "execution_count": 6,
     "metadata": {},
     "output_type": "execute_result"
    }
   ],
   "source": [
    "model.get_weights()"
   ]
  },
  {
   "cell_type": "code",
   "execution_count": 7,
   "metadata": {},
   "outputs": [],
   "source": [
    "def decode_review(encoded_review):\n",
    "    return ' '.join([reverse_word_index.get(i - 3, '?') for i in encoded_review])\n",
    "\n",
    "# Function to preprocess user input\n",
    "def preprocess_text(text):\n",
    "    words = text.lower().split()\n",
    "    encoded_review = [word_index.get(word, 2) + 3 for word in words]\n",
    "    padded_review = sequence.pad_sequences([encoded_review], maxlen=500)\n",
    "    return padded_review"
   ]
  },
  {
   "cell_type": "code",
   "execution_count": 9,
   "metadata": {},
   "outputs": [],
   "source": [
    "## prediction function \n",
    "def predict_sentiment(review):\n",
    "    preprocessed_input=preprocess_text(review)\n",
    "\n",
    "    prediction=model.predict(preprocessed_input)\n",
    "\n",
    "    sentiment = 'Positive' if prediction[0][0] > 0.5 else 'Negative'\n",
    "    \n",
    "    return sentiment, prediction[0][0]"
   ]
  },
  {
   "cell_type": "code",
   "execution_count": 12,
   "metadata": {},
   "outputs": [
    {
     "name": "stdout",
     "output_type": "stream",
     "text": [
      "\u001b[1m1/1\u001b[0m \u001b[32m━━━━━━━━━━━━━━━━━━━━\u001b[0m\u001b[37m\u001b[0m \u001b[1m0s\u001b[0m 24ms/step\n",
      "review:The film was a cinematic poor with outdated visuals and a boring story.\n",
      "sentiment:Negative\n",
      "prediction score :0.018064964562654495\n"
     ]
    }
   ],
   "source": [
    "review = \"The film was a cinematic poor with outdated visuals and a boring story.\"\n",
    "sentiment,score = predict_sentiment(review)\n",
    "print(f'review:{review}')\n",
    "print(f'sentiment:{sentiment}')\n",
    "print(f'prediction score :{score}')"
   ]
  },
  {
   "cell_type": "code",
   "execution_count": null,
   "metadata": {},
   "outputs": [],
   "source": []
  }
 ],
 "metadata": {
  "kernelspec": {
   "display_name": "first",
   "language": "python",
   "name": "python3"
  },
  "language_info": {
   "codemirror_mode": {
    "name": "ipython",
    "version": 3
   },
   "file_extension": ".py",
   "mimetype": "text/x-python",
   "name": "python",
   "nbconvert_exporter": "python",
   "pygments_lexer": "ipython3",
   "version": "3.12.4"
  }
 },
 "nbformat": 4,
 "nbformat_minor": 2
}
